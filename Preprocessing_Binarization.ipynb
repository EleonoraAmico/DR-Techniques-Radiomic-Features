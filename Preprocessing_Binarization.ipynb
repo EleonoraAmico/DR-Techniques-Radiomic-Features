{
 "cells": [
  {
   "cell_type": "code",
   "execution_count": 2,
   "id": "5934e1dd",
   "metadata": {},
   "outputs": [],
   "source": [
    "import pandas as pd\n",
    "from sklearn.preprocessing import StandardScaler\n",
    "import numpy as np\n",
    "import seaborn as sns\n",
    "import matplotlib.pyplot as plt"
   ]
  },
  {
   "cell_type": "code",
   "execution_count": 3,
   "id": "5eb99bf9",
   "metadata": {},
   "outputs": [
    {
     "name": "stdout",
     "output_type": "stream",
     "text": [
      "<class 'pandas.core.frame.DataFrame'>\n",
      "RangeIndex: 221 entries, 0 to 220\n",
      "Columns: 1144 entries, PFS_I_EVENT to wavelet-LLL_gldm_SmallDependenceLowGrayLevelEmphasis\n",
      "dtypes: float64(1141), int64(3)\n",
      "memory usage: 1.9 MB\n",
      "None\n"
     ]
    }
   ],
   "source": [
    "# Load the dataset\n",
    "data = pd.read_csv('imputed_data.csv')\n",
    "\n",
    "# Explore the data\n",
    "print(data.info())\n"
   ]
  },
  {
   "cell_type": "code",
   "execution_count": 5,
   "id": "b63ba38f",
   "metadata": {},
   "outputs": [
    {
     "name": "stdout",
     "output_type": "stream",
     "text": [
      "Categorical variables with values 0 or 1 are: ['PFS_I_EVENT', 'OS_EVENT', 'SEX']\n"
     ]
    }
   ],
   "source": [
    "# Function to identify categorical variables with values 0 or 1\n",
    "def find_binary_categorical_vars(df):\n",
    "    binary_categorical_vars = []\n",
    "    for col in df.columns:\n",
    "        if df[col].dropna().isin([0, 1]).all():\n",
    "            binary_categorical_vars.append(col)\n",
    "    return binary_categorical_vars\n",
    "\n",
    "# Identify binary categorical variables\n",
    "binary_categorical_vars = find_binary_categorical_vars(data)\n",
    "\n",
    "print(\"Categorical variables with values 0 or 1 are:\", binary_categorical_vars)"
   ]
  },
  {
   "cell_type": "markdown",
   "id": "9b3ab29d",
   "metadata": {},
   "source": [
    "Diagnosi di mieloma:\n",
    "CREATININA > 2 \n",
    "Emoglobina < 10.5\n",
    "Plt (piastrine) <130 \n",
    "PC_TOT (plasma cellule) >5/10%, nei casi avanzati >60%\n",
    "Calcio >11"
   ]
  },
  {
   "cell_type": "code",
   "execution_count": 7,
   "id": "697c237c",
   "metadata": {},
   "outputs": [
    {
     "name": "stdout",
     "output_type": "stream",
     "text": [
      "Values higher than 2: 24\n",
      "Values lower than 2: 197\n",
      "NaN values: 0\n",
      "Mean values: 1.471899046863711\n",
      "Max values: 17.2\n",
      "Min values: 0.47\n"
     ]
    }
   ],
   "source": [
    "data['CREATININE'] = pd.to_numeric(data['CREATININE'], errors='coerce')\n",
    "\n",
    "# Count values higher than 50\n",
    "higher_than_2 = (data['CREATININE'] > 2).sum()\n",
    "\n",
    "# Count values lower than 50\n",
    "lower_than_2 = (data['CREATININE'] < 2).sum()\n",
    "\n",
    "# Count NaN values\n",
    "nan_values = data['CREATININE'].isna().sum()\n",
    "\n",
    "mean=data['CREATININE'].mean()\n",
    "mass=data['CREATININE'].max()\n",
    "min=data['CREATININE'].min()\n",
    "\n",
    "print(f\"Values higher than 2: {higher_than_2}\")\n",
    "print(f\"Values lower than 2: {lower_than_2}\")\n",
    "print(f\"NaN values: {nan_values}\")\n",
    "print(f\"Mean values: {mean}\")\n",
    "print(f\"Max values: {mass}\")\n",
    "print(f\"Min values: {min}\")"
   ]
  },
  {
   "cell_type": "code",
   "execution_count": 19,
   "id": "fb8fbf16",
   "metadata": {},
   "outputs": [
    {
     "name": "stdout",
     "output_type": "stream",
     "text": [
      "Values higher than 150: 199\n",
      "Values lower than 150: 20\n",
      "NaN values: 0\n",
      "Mean values: 228.11433887183045\n",
      "Max values: 536.0\n",
      "Min values: 35.0\n"
     ]
    }
   ],
   "source": [
    "data['PLT'] = pd.to_numeric(data['PLT'], errors='coerce')\n",
    "\n",
    "# Count values higher than 50\n",
    "higher_than = (data['PLT'] > 130).sum()\n",
    "\n",
    "# Count values lower than 50\n",
    "lower_than = (data['PLT'] < 130).sum()\n",
    "\n",
    "# Count NaN values\n",
    "nan_values = data['PLT'].isna().sum()\n",
    "\n",
    "mean=data['PLT'].mean()\n",
    "mass=data['PLT'].max()\n",
    "min=data['PLT'].min()\n",
    "\n",
    "print(f\"Values higher than 150: {higher_than}\")\n",
    "print(f\"Values lower than 150: {lower_than}\")\n",
    "print(f\"NaN values: {nan_values}\")\n",
    "print(f\"Mean values: {mean}\")\n",
    "print(f\"Max values: {mass}\")\n",
    "print(f\"Min values: {min}\")"
   ]
  },
  {
   "cell_type": "code",
   "execution_count": 14,
   "id": "99bd4d29",
   "metadata": {},
   "outputs": [
    {
     "name": "stdout",
     "output_type": "stream",
     "text": [
      "Values higher than 10: 148\n",
      "Values lower than 10: 71\n",
      "NaN values: 0\n",
      "Mean values: 11.042403265402262\n",
      "Max values: 15.7\n",
      "Min values: 6.6\n"
     ]
    }
   ],
   "source": [
    "data['HB'] = pd.to_numeric(data['HB'], errors='coerce')\n",
    "\n",
    "# Count values higher than 50\n",
    "higher_than = (data['HB'] > 10).sum()\n",
    "\n",
    "# Count values lower than 50\n",
    "lower_than = (data['HB'] < 10).sum()\n",
    "\n",
    "# Count NaN values\n",
    "nan_values = data['HB'].isna().sum()\n",
    "\n",
    "mean=data['HB'].mean()\n",
    "mass=data['HB'].max()\n",
    "min=data['HB'].min()\n",
    "\n",
    "print(f\"Values higher than 10: {higher_than}\")\n",
    "print(f\"Values lower than 10: {lower_than}\")\n",
    "print(f\"NaN values: {nan_values}\")\n",
    "print(f\"Mean values: {mean}\")\n",
    "print(f\"Max values: {mass}\")\n",
    "print(f\"Min values: {min}\")"
   ]
  },
  {
   "cell_type": "code",
   "execution_count": 18,
   "id": "c4727325",
   "metadata": {},
   "outputs": [
    {
     "name": "stdout",
     "output_type": "stream",
     "text": [
      "Values higher than 60: 81\n",
      "Values lower than 60: 140\n",
      "NaN values: 0\n",
      "Mean values: 49.737244412442166\n",
      "Max values: 100.0\n",
      "Min values: 5.0\n"
     ]
    }
   ],
   "source": [
    "data['PC_TOT'] = pd.to_numeric(data['PC_TOT'], errors='coerce')\n",
    "\n",
    "# Count values higher than 50\n",
    "higher_than = (data['PC_TOT'] >=60).sum()\n",
    "\n",
    "# Count values lower than 50\n",
    "lower_than = (data['PC_TOT'] < 60).sum()\n",
    "\n",
    "# Count NaN values\n",
    "nan_values = data['PC_TOT'].isna().sum()\n",
    "\n",
    "mean=data['PC_TOT'].mean()\n",
    "mass=data['PC_TOT'].max()\n",
    "min=data['PC_TOT'].min()\n",
    "\n",
    "print(f\"Values higher than 60: {higher_than}\")\n",
    "print(f\"Values lower than 60: {lower_than}\")\n",
    "print(f\"NaN values: {nan_values}\")\n",
    "print(f\"Mean values: {mean}\")\n",
    "print(f\"Max values: {mass}\")\n",
    "print(f\"Min values: {min}\")"
   ]
  },
  {
   "cell_type": "code",
   "execution_count": 16,
   "id": "1840ac5e",
   "metadata": {},
   "outputs": [
    {
     "name": "stdout",
     "output_type": "stream",
     "text": [
      "Values higher than 11: 16\n",
      "Values lower than 11: 203\n",
      "NaN values: 0\n",
      "Mean values: 9.714010592138946\n",
      "Max values: 16.1\n",
      "Min values: 7.5\n"
     ]
    }
   ],
   "source": [
    "data['CALCIUM'] = pd.to_numeric(data['CALCIUM'], errors='coerce')\n",
    "\n",
    "# Count values higher than 50\n",
    "higher_than = (data['CALCIUM'] > 11).sum()\n",
    "\n",
    "# Count values lower than 50\n",
    "lower_than = (data['CALCIUM'] < 11).sum()\n",
    "\n",
    "# Count NaN values\n",
    "nan_values = data['CALCIUM'].isna().sum()\n",
    "\n",
    "mean=data['CALCIUM'].mean()\n",
    "mass=data['CALCIUM'].max()\n",
    "min=data['CALCIUM'].min()\n",
    "\n",
    "print(f\"Values higher than 11: {higher_than}\")\n",
    "print(f\"Values lower than 11: {lower_than}\")\n",
    "print(f\"NaN values: {nan_values}\")\n",
    "print(f\"Mean values: {mean}\")\n",
    "print(f\"Max values: {mass}\")\n",
    "print(f\"Min values: {min}\")"
   ]
  },
  {
   "cell_type": "code",
   "execution_count": 20,
   "id": "b268c94b",
   "metadata": {},
   "outputs": [],
   "source": [
    "data['CREATININE'] = (data['CREATININE'] > 2).astype(int)\n",
    "data['HB'] = (data['HB'] < 10.5).astype(int)\n",
    "data['PLT'] = (data['PLT'] < 130).astype(int)\n",
    "data['CALCIUM'] = (data['CALCIUM'] > 11).astype(int)\n",
    "data['PC_TOT'] = (data['PC_TOT'] > 60).astype(int)"
   ]
  },
  {
   "cell_type": "markdown",
   "id": "414a6a74",
   "metadata": {},
   "source": [
    "Tutti i valori maggiori di 2 diventino 1\n",
    "Tutti i valori minori o uguali a 2 diventino 0\n",
    "Quindi 1 diagnosi di mieloma, 0 non diagnosi "
   ]
  },
  {
   "cell_type": "code",
   "execution_count": 21,
   "id": "9ccf692f",
   "metadata": {},
   "outputs": [
    {
     "name": "stdout",
     "output_type": "stream",
     "text": [
      "0      1\n",
      "1      0\n",
      "2      0\n",
      "3      0\n",
      "4      0\n",
      "      ..\n",
      "216    0\n",
      "217    1\n",
      "218    0\n",
      "219    0\n",
      "220    0\n",
      "Name: CREATININE, Length: 221, dtype: int32\n"
     ]
    }
   ],
   "source": [
    "print(data['CREATININE'])"
   ]
  },
  {
   "cell_type": "code",
   "execution_count": 24,
   "id": "7dcf1926",
   "metadata": {},
   "outputs": [],
   "source": [
    "data.to_csv('binarized_data.csv', index=False)"
   ]
  },
  {
   "cell_type": "code",
   "execution_count": 25,
   "id": "e49a701f",
   "metadata": {},
   "outputs": [],
   "source": [
    "# Load the dataset\n",
    "data_1 = pd.read_csv('binarized_data.csv')"
   ]
  },
  {
   "cell_type": "code",
   "execution_count": null,
   "id": "8da2aaea",
   "metadata": {},
   "outputs": [],
   "source": []
  }
 ],
 "metadata": {
  "kernelspec": {
   "display_name": "Python 3 (ipykernel)",
   "language": "python",
   "name": "python3"
  },
  "language_info": {
   "codemirror_mode": {
    "name": "ipython",
    "version": 3
   },
   "file_extension": ".py",
   "mimetype": "text/x-python",
   "name": "python",
   "nbconvert_exporter": "python",
   "pygments_lexer": "ipython3",
   "version": "3.9.19"
  }
 },
 "nbformat": 4,
 "nbformat_minor": 5
}
